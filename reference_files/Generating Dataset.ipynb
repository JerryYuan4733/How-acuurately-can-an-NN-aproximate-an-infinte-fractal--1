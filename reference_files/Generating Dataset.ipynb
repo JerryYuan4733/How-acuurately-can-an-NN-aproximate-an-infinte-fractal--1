{
 "cells": [
  {
   "cell_type": "markdown",
   "id": "5b6de685",
   "metadata": {},
   "source": [
    "# Creating mandelbrot dataset"
   ]
  },
  {
   "cell_type": "markdown",
   "id": "8918f861",
   "metadata": {},
   "source": [
    "This code can be used to generate the dataset that is required for training the neural network. "
   ]
  },
  {
   "cell_type": "code",
   "execution_count": 31,
   "id": "c108a5e9",
   "metadata": {},
   "outputs": [],
   "source": [
    "import torch\n",
    "import random\n",
    "from tqdm import tqdm\n",
    "from torch.utils.data import Dataset\n",
    "import math\n",
    "\n",
    "\n",
    "import pandas as pd #only used for viewing the datset\n"
   ]
  },
  {
   "cell_type": "code",
   "execution_count": 32,
   "id": "d79fcbd5",
   "metadata": {},
   "outputs": [],
   "source": [
    "class mandelbrotDataSet: \n",
    "    \"\"\"\n",
    "    \n",
    "    \n",
    "    this is the datset that the NN will be trained on!\n",
    "    \n",
    "    \n",
    "    size = number of points to generate. Each point is generated uniformly at random.       \n",
    "    max_depth = max nmber of steps to take when deciding whether a point belongs to the madelbrot set or not.    \n",
    "    minimum_x = minimum value of x over all the generated points.\n",
    "    maximum_x = maximum value of x over all the generated points.\n",
    "    minimum_y = minimum value of y over all the generated points.\n",
    "    maximum_y = maximum value of y over all the generated points.    \n",
    "    \n",
    "    \"\"\"\n",
    "\n",
    "    def __init__(self, size = 1000, max_depth = 50, minimum_x = -2.5, maximum_x = 1.0, minimum_y = -1.1, maximum_y = 1.1):\n",
    "        self.size = size      \n",
    "        self.max_depth = max_depth\n",
    "        \n",
    "        self.inputs = []\n",
    "        self.outputs = []\n",
    "        \n",
    "        for i in tqdm(range(self.size)):\n",
    "            x = random.uniform(minimum_x, maximum_x)\n",
    "            y = random.uniform(minimum_y, minimum_y)\n",
    "            self.inputs.append(torch.tensor([x, y]))\n",
    "            self.outputs.append(torch.tensor(self.belongs_to_mandelbrot_set(x, y)))\n",
    "            \n",
    "            \n",
    "    def belongs_to_mandelbrot_set(self, x, y): \n",
    "        \"\"\" Returns 1.0 if (x, y) is in the mandelbrot set. Else returns a float between 1 and 0 (excluding 1)\"\"\"\n",
    "        return self.f(x + 1j * y) #Complex mumber\n",
    "    \n",
    "    def f(self, a):\n",
    "        \"\"\" Itterates up to max depth to check if a complex number belongs to the madelbrot set or not.\"\"\"\n",
    "        z = 0\n",
    "        for n in range(1, self.max_depth):\n",
    "            z = z ** 2 + a\n",
    "            if abs(z) > 2:\n",
    "                return min((n - 1) / 50, 1)\n",
    "        return 1.0   \n",
    "    \n",
    "    def view(self):\n",
    "        dataframe = pd.DataFrame(data = [], columns = [\"(x, y)\", \"Belongs?\"])\n",
    "        for i in range(len(self.inputs)):\n",
    "            inp = self.inputs[i]\n",
    "            out = self.outputs[i]\n",
    "            belongs = False\n",
    "            if out == 1:\n",
    "                belongs = True\n",
    "                \n",
    "            dataframe.loc[i] = [inp, belongs]\n",
    "        return dataframe\n",
    "        \n",
    "            \n",
    "                \n",
    "            \n",
    "        \n",
    "    \n",
    "    "
   ]
  },
  {
   "cell_type": "code",
   "execution_count": 33,
   "id": "f45f562c",
   "metadata": {},
   "outputs": [
    {
     "name": "stderr",
     "output_type": "stream",
     "text": [
      "100%|██████████████████████████████████████████████████████████████████████████| 1000/1000 [00:00<00:00, 111089.73it/s]\n"
     ]
    }
   ],
   "source": [
    "dataset = mandelbrotDataSet() #by default we will generate 1000 training instances. "
   ]
  },
  {
   "cell_type": "code",
   "execution_count": 34,
   "id": "2dd8fbc5",
   "metadata": {},
   "outputs": [
    {
     "data": {
      "text/html": [
       "<div>\n",
       "<style scoped>\n",
       "    .dataframe tbody tr th:only-of-type {\n",
       "        vertical-align: middle;\n",
       "    }\n",
       "\n",
       "    .dataframe tbody tr th {\n",
       "        vertical-align: top;\n",
       "    }\n",
       "\n",
       "    .dataframe thead th {\n",
       "        text-align: right;\n",
       "    }\n",
       "</style>\n",
       "<table border=\"1\" class=\"dataframe\">\n",
       "  <thead>\n",
       "    <tr style=\"text-align: right;\">\n",
       "      <th></th>\n",
       "      <th>(x, y)</th>\n",
       "      <th>Belongs?</th>\n",
       "    </tr>\n",
       "  </thead>\n",
       "  <tbody>\n",
       "    <tr>\n",
       "      <th>0</th>\n",
       "      <td>[tensor(0.7031), tensor(-1.1000)]</td>\n",
       "      <td>False</td>\n",
       "    </tr>\n",
       "    <tr>\n",
       "      <th>1</th>\n",
       "      <td>[tensor(0.1826), tensor(-1.1000)]</td>\n",
       "      <td>False</td>\n",
       "    </tr>\n",
       "    <tr>\n",
       "      <th>2</th>\n",
       "      <td>[tensor(0.8091), tensor(-1.1000)]</td>\n",
       "      <td>False</td>\n",
       "    </tr>\n",
       "    <tr>\n",
       "      <th>3</th>\n",
       "      <td>[tensor(-0.3221), tensor(-1.1000)]</td>\n",
       "      <td>False</td>\n",
       "    </tr>\n",
       "    <tr>\n",
       "      <th>4</th>\n",
       "      <td>[tensor(-0.4549), tensor(-1.1000)]</td>\n",
       "      <td>False</td>\n",
       "    </tr>\n",
       "    <tr>\n",
       "      <th>...</th>\n",
       "      <td>...</td>\n",
       "      <td>...</td>\n",
       "    </tr>\n",
       "    <tr>\n",
       "      <th>995</th>\n",
       "      <td>[tensor(-0.4020), tensor(-1.1000)]</td>\n",
       "      <td>False</td>\n",
       "    </tr>\n",
       "    <tr>\n",
       "      <th>996</th>\n",
       "      <td>[tensor(0.8837), tensor(-1.1000)]</td>\n",
       "      <td>False</td>\n",
       "    </tr>\n",
       "    <tr>\n",
       "      <th>997</th>\n",
       "      <td>[tensor(0.5661), tensor(-1.1000)]</td>\n",
       "      <td>False</td>\n",
       "    </tr>\n",
       "    <tr>\n",
       "      <th>998</th>\n",
       "      <td>[tensor(-1.7109), tensor(-1.1000)]</td>\n",
       "      <td>False</td>\n",
       "    </tr>\n",
       "    <tr>\n",
       "      <th>999</th>\n",
       "      <td>[tensor(-2.4194), tensor(-1.1000)]</td>\n",
       "      <td>False</td>\n",
       "    </tr>\n",
       "  </tbody>\n",
       "</table>\n",
       "<p>1000 rows × 2 columns</p>\n",
       "</div>"
      ],
      "text/plain": [
       "                                 (x, y)  Belongs?\n",
       "0     [tensor(0.7031), tensor(-1.1000)]     False\n",
       "1     [tensor(0.1826), tensor(-1.1000)]     False\n",
       "2     [tensor(0.8091), tensor(-1.1000)]     False\n",
       "3    [tensor(-0.3221), tensor(-1.1000)]     False\n",
       "4    [tensor(-0.4549), tensor(-1.1000)]     False\n",
       "..                                  ...       ...\n",
       "995  [tensor(-0.4020), tensor(-1.1000)]     False\n",
       "996   [tensor(0.8837), tensor(-1.1000)]     False\n",
       "997   [tensor(0.5661), tensor(-1.1000)]     False\n",
       "998  [tensor(-1.7109), tensor(-1.1000)]     False\n",
       "999  [tensor(-2.4194), tensor(-1.1000)]     False\n",
       "\n",
       "[1000 rows x 2 columns]"
      ]
     },
     "execution_count": 34,
     "metadata": {},
     "output_type": "execute_result"
    }
   ],
   "source": [
    "dataset.view()"
   ]
  },
  {
   "cell_type": "code",
   "execution_count": null,
   "id": "5008cdcb",
   "metadata": {},
   "outputs": [],
   "source": []
  },
  {
   "cell_type": "code",
   "execution_count": null,
   "id": "bb9be0c6",
   "metadata": {},
   "outputs": [],
   "source": []
  }
 ],
 "metadata": {
  "kernelspec": {
   "display_name": "Python 3 (ipykernel)",
   "language": "python",
   "name": "python3"
  },
  "language_info": {
   "codemirror_mode": {
    "name": "ipython",
    "version": 3
   },
   "file_extension": ".py",
   "mimetype": "text/x-python",
   "name": "python",
   "nbconvert_exporter": "python",
   "pygments_lexer": "ipython3",
   "version": "3.9.13"
  }
 },
 "nbformat": 4,
 "nbformat_minor": 5
}
