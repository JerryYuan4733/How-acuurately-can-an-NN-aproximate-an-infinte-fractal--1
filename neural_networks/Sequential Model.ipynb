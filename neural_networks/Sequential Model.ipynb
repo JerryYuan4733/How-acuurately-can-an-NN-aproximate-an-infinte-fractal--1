{
  "nbformat": 4,
  "nbformat_minor": 0,
  "metadata": {
    "colab": {
      "name": "Mandelbrot Set.ipynb",
      "provenance": [],
      "collapsed_sections": []
    },
    "kernelspec": {
      "name": "python3",
      "display_name": "Python 3"
    },
    "language_info": {
      "name": "python"
    }
  },
  "cells": [
    {
      "cell_type": "code",
      "execution_count": null,
      "metadata": {
        "id": "8GW2mieyorM5"
      },
      "outputs": [],
      "source": [
        "import torch\n",
        "import random\n",
        "from tqdm import tqdm\n",
        "from torch.utils.data import Dataset\n",
        "import math\n",
        "import pandas as pd #only used for viewing the datset\n",
        "import numpy as np"
      ]
    },
    {
      "cell_type": "code",
      "source": [
        "class mandelbrotDataSet: \n",
        "    \"\"\"\n",
        "    \n",
        "    \n",
        "    this is the datset that the NN will be trained on!\n",
        "    \n",
        "    \n",
        "    size = number of points to generate. Each point is generated uniformly at random.       \n",
        "    max_depth = max nmber of steps to take when deciding whether a point belongs to the madelbrot set or not.    \n",
        "    minimum_x = minimum value of x over all the generated points.\n",
        "    maximum_x = maximum value of x over all the generated points.\n",
        "    minimum_y = minimum value of y over all the generated points.\n",
        "    maximum_y = maximum value of y over all the generated points.    \n",
        "    \n",
        "    \"\"\"\n",
        "    def __init__(self, size = 1000, max_depth = 50, minimum_x = -2.5, maximum_x = 1.0, minimum_y = -1.1, maximum_y = 1.1):\n",
        "        self.minimum_x = minimum_x\n",
        "        self.maximum_x = maximum_x\n",
        "\n",
        "        self.minimum_y = minimum_y\n",
        "        self.maximum_y = maximum_y\n",
        "\n",
        "        self.size = size      \n",
        "        self.max_depth = max_depth\n",
        "        \n",
        "        self.inputs = []\n",
        "        self.outputs = []\n",
        "        \n",
        "        for i in tqdm(range(self.size)):\n",
        "            x = random.uniform(minimum_x, maximum_x)\n",
        "            y = random.uniform(minimum_y, maximum_y)\n",
        "            self.inputs.append([x, y])\n",
        "            self.outputs.append(np.array(self.belongs_to_mandelbrot_set(x, y)))            \n",
        "            \n",
        "    def belongs_to_mandelbrot_set(self, x, y): \n",
        "        \"\"\" Returns 1.0 if (x, y) is in the mandelbrot set. Else returns a float between 1 and 0 (excluding 1)\"\"\"\n",
        "        return self.f(x + 1j * y) #Complex mumber\n",
        "    \n",
        "    def f(self, a):\n",
        "        \"\"\" Itterates up to max depth to check if a complex number belongs to the madelbrot set or not.\"\"\"\n",
        "        z = 0\n",
        "        for n in range(1, self.max_depth):\n",
        "            z = z ** 2 + a\n",
        "            if abs(z) > 2:\n",
        "                return min((n - 1) / 50, 1)\n",
        "        return 1.0  \n",
        "\n",
        "    def get_X_and_Y(self):\n",
        "      X_train_full = np.array(self.inputs)\n",
        "      Y_train_full = []\n",
        "      for output in self.outputs:\n",
        "        if output == 1 or output == 1.0:\n",
        "          Y_train_full.append(1)\n",
        "        else:\n",
        "          Y_train_full.append(0)\n",
        "\n",
        "      return X_train_full, np.array(Y_train_full)\n",
        "            \n",
        "    def view(self):\n",
        "        dataframe = pd.DataFrame(data = [], columns = [\"x\",\"y\", \"Belongs?\"])\n",
        "        for i in range(len(self.inputs)):\n",
        "            inp = self.inputs[i]\n",
        "            inp1 = inp[0]\n",
        "            inp2 = inp[1]\n",
        "            out = self.outputs[i]\n",
        "            belongs = False\n",
        "            if out == 1:\n",
        "                belongs = True\n",
        "                \n",
        "            dataframe.loc[i] = [inp1, inp2, belongs]\n",
        "        return dataframe       \n",
        "            \n",
        "                "
      ],
      "metadata": {
        "id": "Nhf8x4mLo35A"
      },
      "execution_count": null,
      "outputs": []
    },
    {
      "cell_type": "code",
      "source": [
        "dataset = mandelbrotDataSet(100000) #by default we will generate 1000 training instances. "
      ],
      "metadata": {
        "colab": {
          "base_uri": "https://localhost:8080/"
        },
        "id": "6QI8uYr0o6z1",
        "outputId": "ed964a32-d397-4faa-8cd9-1639165f6eb1"
      },
      "execution_count": null,
      "outputs": [
        {
          "output_type": "stream",
          "name": "stderr",
          "text": [
            "100%|██████████| 100000/100000 [00:00<00:00, 156961.47it/s]\n"
          ]
        }
      ]
    },
    {
      "cell_type": "code",
      "source": [
        "X, Y = dataset.get_X_and_Y() \n",
        "X"
      ],
      "metadata": {
        "colab": {
          "base_uri": "https://localhost:8080/"
        },
        "id": "0vkfjYkgqrcM",
        "outputId": "c8670da4-d513-4735-8821-f39cf4035e60"
      },
      "execution_count": null,
      "outputs": [
        {
          "output_type": "execute_result",
          "data": {
            "text/plain": [
              "array([[ 0.59145824, -0.75570509],\n",
              "       [-1.80031288,  0.02464211],\n",
              "       [ 0.18138745,  0.45894398],\n",
              "       ...,\n",
              "       [ 0.45578037,  0.87822897],\n",
              "       [-1.07728428, -0.38622595],\n",
              "       [-0.92758188, -0.3800153 ]])"
            ]
          },
          "metadata": {},
          "execution_count": 82
        }
      ]
    },
    {
      "cell_type": "code",
      "source": [
        "Y"
      ],
      "metadata": {
        "colab": {
          "base_uri": "https://localhost:8080/"
        },
        "id": "IzpGTj7prYJ7",
        "outputId": "c21fa215-2ed5-4364-ab20-43518904ea36"
      },
      "execution_count": null,
      "outputs": [
        {
          "output_type": "execute_result",
          "data": {
            "text/plain": [
              "array([0, 0, 1, ..., 0, 0, 0])"
            ]
          },
          "metadata": {},
          "execution_count": 83
        }
      ]
    },
    {
      "cell_type": "code",
      "source": [
        "X_train, X_test = X[:math.ceil(X.shape[0] * 0.8)], X[math.ceil(X.shape[0] * 0.8):]\n",
        "Y_train, Y_test = Y[:math.ceil(Y.shape[0] * 0.8)], Y[math.ceil(Y.shape[0] * 0.8):]"
      ],
      "metadata": {
        "id": "1EYyhhgnsmnj"
      },
      "execution_count": null,
      "outputs": []
    },
    {
      "cell_type": "code",
      "source": [
        "import tensorflow as tf\n",
        "from tensorflow import keras"
      ],
      "metadata": {
        "id": "toKgfHRZtOWe"
      },
      "execution_count": null,
      "outputs": []
    },
    {
      "cell_type": "code",
      "source": [
        "model = keras.models.Sequential()\n",
        "model.add(keras.layers.Flatten(input_shape  = [2, 1])) #each image array is 28 x 28 and each image array is input, and flatten it. \n",
        "model.add(keras.layers.Dense(300, activation = \"relu\")) #fukly conencted layer with 300 neurons. using relu activation function. = 300 * (28 * 28) weights and 300 biases\n",
        "model.add(keras.layers.Dense(100, activation = \"relu\"))\n",
        "model.add(keras.layers.Dense(2, activation = \"softmax\")) #output layer has 10 neurons because 10 classes. "
      ],
      "metadata": {
        "id": "U3pTIT27saff"
      },
      "execution_count": null,
      "outputs": []
    },
    {
      "cell_type": "code",
      "source": [
        "model.summary()"
      ],
      "metadata": {
        "colab": {
          "base_uri": "https://localhost:8080/"
        },
        "id": "tMs2SQBatUmi",
        "outputId": "681040f9-b55f-480f-f0bb-751bc6841fa3"
      },
      "execution_count": null,
      "outputs": [
        {
          "output_type": "stream",
          "name": "stdout",
          "text": [
            "Model: \"sequential_1\"\n",
            "_________________________________________________________________\n",
            " Layer (type)                Output Shape              Param #   \n",
            "=================================================================\n",
            " flatten_1 (Flatten)         (None, 2)                 0         \n",
            "                                                                 \n",
            " dense_3 (Dense)             (None, 300)               900       \n",
            "                                                                 \n",
            " dense_4 (Dense)             (None, 100)               30100     \n",
            "                                                                 \n",
            " dense_5 (Dense)             (None, 2)                 202       \n",
            "                                                                 \n",
            "=================================================================\n",
            "Total params: 31,202\n",
            "Trainable params: 31,202\n",
            "Non-trainable params: 0\n",
            "_________________________________________________________________\n"
          ]
        }
      ]
    },
    {
      "cell_type": "code",
      "source": [
        "model.compile(loss = \"sparse_categorical_crossentropy\", optimizer = \"sgd\", metrics = [\"accuracy\"]) #learwning rate defaults to 0.01"
      ],
      "metadata": {
        "id": "ZErjlQ-LtaKU"
      },
      "execution_count": null,
      "outputs": []
    },
    {
      "cell_type": "code",
      "source": [
        "history = model.fit(X_train, Y_train, epochs = 50, validation_data = (X_test, Y_test))"
      ],
      "metadata": {
        "colab": {
          "base_uri": "https://localhost:8080/"
        },
        "id": "Ni2qT_wutctx",
        "outputId": "dfdceaec-ec66-41a2-b500-a365fabeaa6e"
      },
      "execution_count": null,
      "outputs": [
        {
          "output_type": "stream",
          "name": "stdout",
          "text": [
            "Epoch 1/50\n",
            "2500/2500 [==============================] - 4s 1ms/step - loss: 0.3245 - accuracy: 0.8408 - val_loss: 0.2093 - val_accuracy: 0.9297\n",
            "Epoch 2/50\n",
            "2500/2500 [==============================] - 3s 1ms/step - loss: 0.1601 - accuracy: 0.9467 - val_loss: 0.1235 - val_accuracy: 0.9595\n",
            "Epoch 3/50\n",
            "2500/2500 [==============================] - 3s 1ms/step - loss: 0.1104 - accuracy: 0.9604 - val_loss: 0.0979 - val_accuracy: 0.9643\n",
            "Epoch 4/50\n",
            "2500/2500 [==============================] - 3s 1ms/step - loss: 0.0941 - accuracy: 0.9635 - val_loss: 0.0881 - val_accuracy: 0.9661\n",
            "Epoch 5/50\n",
            "2500/2500 [==============================] - 3s 1ms/step - loss: 0.0872 - accuracy: 0.9646 - val_loss: 0.0837 - val_accuracy: 0.9668\n",
            "Epoch 6/50\n",
            "2500/2500 [==============================] - 3s 1ms/step - loss: 0.0837 - accuracy: 0.9656 - val_loss: 0.0816 - val_accuracy: 0.9662\n",
            "Epoch 7/50\n",
            "2500/2500 [==============================] - 3s 1ms/step - loss: 0.0817 - accuracy: 0.9661 - val_loss: 0.0794 - val_accuracy: 0.9678\n",
            "Epoch 8/50\n",
            "2500/2500 [==============================] - 3s 1ms/step - loss: 0.0804 - accuracy: 0.9658 - val_loss: 0.0784 - val_accuracy: 0.9684\n",
            "Epoch 9/50\n",
            "2500/2500 [==============================] - 3s 1ms/step - loss: 0.0794 - accuracy: 0.9665 - val_loss: 0.0773 - val_accuracy: 0.9686\n",
            "Epoch 10/50\n",
            "2500/2500 [==============================] - 3s 1ms/step - loss: 0.0788 - accuracy: 0.9664 - val_loss: 0.0768 - val_accuracy: 0.9686\n",
            "Epoch 11/50\n",
            "2500/2500 [==============================] - 3s 1ms/step - loss: 0.0783 - accuracy: 0.9668 - val_loss: 0.0761 - val_accuracy: 0.9691\n",
            "Epoch 12/50\n",
            "2500/2500 [==============================] - 3s 1ms/step - loss: 0.0778 - accuracy: 0.9674 - val_loss: 0.0763 - val_accuracy: 0.9685\n",
            "Epoch 13/50\n",
            "2500/2500 [==============================] - 4s 1ms/step - loss: 0.0773 - accuracy: 0.9675 - val_loss: 0.0759 - val_accuracy: 0.9687\n",
            "Epoch 14/50\n",
            "2500/2500 [==============================] - 3s 1ms/step - loss: 0.0769 - accuracy: 0.9668 - val_loss: 0.0752 - val_accuracy: 0.9686\n",
            "Epoch 15/50\n",
            "2500/2500 [==============================] - 3s 1ms/step - loss: 0.0764 - accuracy: 0.9677 - val_loss: 0.0748 - val_accuracy: 0.9689\n",
            "Epoch 16/50\n",
            "2500/2500 [==============================] - 3s 1ms/step - loss: 0.0758 - accuracy: 0.9677 - val_loss: 0.0735 - val_accuracy: 0.9701\n",
            "Epoch 17/50\n",
            "2500/2500 [==============================] - 3s 1ms/step - loss: 0.0752 - accuracy: 0.9686 - val_loss: 0.0732 - val_accuracy: 0.9700\n",
            "Epoch 18/50\n",
            "2500/2500 [==============================] - 3s 1ms/step - loss: 0.0746 - accuracy: 0.9682 - val_loss: 0.0726 - val_accuracy: 0.9696\n",
            "Epoch 19/50\n",
            "2500/2500 [==============================] - 3s 1ms/step - loss: 0.0739 - accuracy: 0.9688 - val_loss: 0.0718 - val_accuracy: 0.9707\n",
            "Epoch 20/50\n",
            "2500/2500 [==============================] - 3s 1ms/step - loss: 0.0733 - accuracy: 0.9692 - val_loss: 0.0715 - val_accuracy: 0.9708\n",
            "Epoch 21/50\n",
            "2500/2500 [==============================] - 3s 1ms/step - loss: 0.0728 - accuracy: 0.9693 - val_loss: 0.0708 - val_accuracy: 0.9704\n",
            "Epoch 22/50\n",
            "2500/2500 [==============================] - 3s 1ms/step - loss: 0.0718 - accuracy: 0.9695 - val_loss: 0.0709 - val_accuracy: 0.9708\n",
            "Epoch 23/50\n",
            "2500/2500 [==============================] - 3s 1ms/step - loss: 0.0715 - accuracy: 0.9697 - val_loss: 0.0703 - val_accuracy: 0.9709\n",
            "Epoch 24/50\n",
            "2500/2500 [==============================] - 3s 1ms/step - loss: 0.0709 - accuracy: 0.9699 - val_loss: 0.0721 - val_accuracy: 0.9710\n",
            "Epoch 25/50\n",
            "2500/2500 [==============================] - 3s 1ms/step - loss: 0.0701 - accuracy: 0.9701 - val_loss: 0.0714 - val_accuracy: 0.9701\n",
            "Epoch 26/50\n",
            "2500/2500 [==============================] - 3s 1ms/step - loss: 0.0696 - accuracy: 0.9708 - val_loss: 0.0678 - val_accuracy: 0.9722\n",
            "Epoch 27/50\n",
            "2500/2500 [==============================] - 3s 1ms/step - loss: 0.0690 - accuracy: 0.9710 - val_loss: 0.0684 - val_accuracy: 0.9717\n",
            "Epoch 28/50\n",
            "2500/2500 [==============================] - 3s 1ms/step - loss: 0.0685 - accuracy: 0.9715 - val_loss: 0.0685 - val_accuracy: 0.9717\n",
            "Epoch 29/50\n",
            "2500/2500 [==============================] - 3s 1ms/step - loss: 0.0678 - accuracy: 0.9713 - val_loss: 0.0674 - val_accuracy: 0.9721\n",
            "Epoch 30/50\n",
            "2500/2500 [==============================] - 3s 1ms/step - loss: 0.0675 - accuracy: 0.9715 - val_loss: 0.0662 - val_accuracy: 0.9725\n",
            "Epoch 31/50\n",
            "2500/2500 [==============================] - 3s 1ms/step - loss: 0.0668 - accuracy: 0.9719 - val_loss: 0.0668 - val_accuracy: 0.9717\n",
            "Epoch 32/50\n",
            "2500/2500 [==============================] - 3s 1ms/step - loss: 0.0663 - accuracy: 0.9723 - val_loss: 0.0655 - val_accuracy: 0.9740\n",
            "Epoch 33/50\n",
            "2500/2500 [==============================] - 3s 1ms/step - loss: 0.0659 - accuracy: 0.9725 - val_loss: 0.0644 - val_accuracy: 0.9739\n",
            "Epoch 34/50\n",
            "2500/2500 [==============================] - 3s 1ms/step - loss: 0.0656 - accuracy: 0.9728 - val_loss: 0.0654 - val_accuracy: 0.9742\n",
            "Epoch 35/50\n",
            "2500/2500 [==============================] - 3s 1ms/step - loss: 0.0652 - accuracy: 0.9730 - val_loss: 0.0644 - val_accuracy: 0.9745\n",
            "Epoch 36/50\n",
            "2500/2500 [==============================] - 3s 1ms/step - loss: 0.0649 - accuracy: 0.9730 - val_loss: 0.0650 - val_accuracy: 0.9726\n",
            "Epoch 37/50\n",
            "2500/2500 [==============================] - 3s 1ms/step - loss: 0.0644 - accuracy: 0.9735 - val_loss: 0.0634 - val_accuracy: 0.9740\n",
            "Epoch 38/50\n",
            "2500/2500 [==============================] - 3s 1ms/step - loss: 0.0642 - accuracy: 0.9732 - val_loss: 0.0630 - val_accuracy: 0.9750\n",
            "Epoch 39/50\n",
            "2500/2500 [==============================] - 3s 1ms/step - loss: 0.0638 - accuracy: 0.9737 - val_loss: 0.0629 - val_accuracy: 0.9737\n",
            "Epoch 40/50\n",
            "2500/2500 [==============================] - 3s 1ms/step - loss: 0.0636 - accuracy: 0.9738 - val_loss: 0.0623 - val_accuracy: 0.9747\n",
            "Epoch 41/50\n",
            "2500/2500 [==============================] - 4s 1ms/step - loss: 0.0634 - accuracy: 0.9736 - val_loss: 0.0619 - val_accuracy: 0.9758\n",
            "Epoch 42/50\n",
            "2500/2500 [==============================] - 3s 1ms/step - loss: 0.0631 - accuracy: 0.9739 - val_loss: 0.0635 - val_accuracy: 0.9747\n",
            "Epoch 43/50\n",
            "2500/2500 [==============================] - 3s 1ms/step - loss: 0.0629 - accuracy: 0.9741 - val_loss: 0.0628 - val_accuracy: 0.9754\n",
            "Epoch 44/50\n",
            "2500/2500 [==============================] - 3s 1ms/step - loss: 0.0625 - accuracy: 0.9742 - val_loss: 0.0620 - val_accuracy: 0.9749\n",
            "Epoch 45/50\n",
            "2500/2500 [==============================] - 4s 1ms/step - loss: 0.0624 - accuracy: 0.9743 - val_loss: 0.0608 - val_accuracy: 0.9751\n",
            "Epoch 46/50\n",
            "2500/2500 [==============================] - 3s 1ms/step - loss: 0.0622 - accuracy: 0.9745 - val_loss: 0.0619 - val_accuracy: 0.9747\n",
            "Epoch 47/50\n",
            "2500/2500 [==============================] - 4s 1ms/step - loss: 0.0619 - accuracy: 0.9740 - val_loss: 0.0606 - val_accuracy: 0.9755\n",
            "Epoch 48/50\n",
            "2500/2500 [==============================] - 3s 1ms/step - loss: 0.0617 - accuracy: 0.9747 - val_loss: 0.0605 - val_accuracy: 0.9765\n",
            "Epoch 49/50\n",
            "2500/2500 [==============================] - 3s 1ms/step - loss: 0.0615 - accuracy: 0.9747 - val_loss: 0.0596 - val_accuracy: 0.9765\n",
            "Epoch 50/50\n",
            "2500/2500 [==============================] - 3s 1ms/step - loss: 0.0614 - accuracy: 0.9748 - val_loss: 0.0604 - val_accuracy: 0.9766\n"
          ]
        }
      ]
    },
    {
      "cell_type": "code",
      "source": [
        "import pandas as pd\n",
        "import matplotlib.pyplot as plt\n",
        "\n",
        "pd.DataFrame(history.history).plot(figsize = (8, 8))\n",
        "\n",
        "plt.grid(True)\n",
        "plt.gca().set_ylim(0, 1)\n",
        "plt.show()\n"
      ],
      "metadata": {
        "colab": {
          "base_uri": "https://localhost:8080/",
          "height": 487
        },
        "id": "7I4PF3mgtk_c",
        "outputId": "ee7623c2-8928-4b8c-ad8f-92723ab6d46a"
      },
      "execution_count": null,
      "outputs": [
        {
          "output_type": "display_data",
          "data": {
            "text/plain": [
              "<Figure size 576x576 with 1 Axes>"
            ],
            "image/png": "[encoded data removed]"
          },
          "metadata": {
            "needs_background": "light"
          }
        }
      ]
    },
    {
      "cell_type": "code",
      "source": [
        "model.evaluate(X_test, Y_test) # returns (loss, accuracy)"
      ],
      "metadata": {
        "colab": {
          "base_uri": "https://localhost:8080/"
        },
        "id": "Cli4hW0atm5R",
        "outputId": "d7584eee-8ae3-4375-bf69-b42b4f9004a2"
      },
      "execution_count": null,
      "outputs": [
        {
          "output_type": "stream",
          "name": "stdout",
          "text": [
            "625/625 [==============================] - 1s 905us/step - loss: 0.0604 - accuracy: 0.9766\n"
          ]
        },
        {
          "output_type": "execute_result",
          "data": {
            "text/plain": [
              "[0.060429882258176804, 0.9765999913215637]"
            ]
          },
          "metadata": {},
          "execution_count": 90
        }
      ]
    },
    {
      "cell_type": "code",
      "source": [
        "n = 1000\n",
        "new_dataset = dataset = mandelbrotDataSet(n) \n",
        "X, Y = dataset.get_X_and_Y()\n",
        "\n",
        "predictions = model.predict(X)\n",
        "predictions_as_classes = np.argmax(predictions, axis=1)\n",
        "predictions_as_classes"
      ],
      "metadata": {
        "colab": {
          "base_uri": "https://localhost:8080/"
        },
        "id": "HdbZ9cX1tp4s",
        "outputId": "24d5cb5c-3864-4a34-e413-ed54b806726a"
      },
      "execution_count": null,
      "outputs": [
        {
          "output_type": "stream",
          "name": "stderr",
          "text": [
            "100%|██████████| 1000/1000 [00:00<00:00, 124334.62it/s]\n"
          ]
        },
        {
          "output_type": "execute_result",
          "data": {
            "text/plain": [
              "array([0, 0, 0, 0, 0, 0, 0, 0, 0, 0, 0, 0, 1, 0, 1, 1, 0, 1, 1, 0, 0, 0,\n",
              "       0, 0, 0, 0, 0, 1, 0, 0, 0, 1, 0, 0, 1, 0, 0, 1, 0, 0, 0, 0, 1, 0,\n",
              "       0, 1, 0, 0, 0, 0, 0, 0, 0, 1, 0, 1, 0, 0, 0, 0, 0, 0, 0, 0, 0, 0,\n",
              "       0, 0, 0, 0, 0, 0, 0, 0, 0, 0, 0, 0, 0, 0, 0, 1, 0, 0, 0, 1, 0, 0,\n",
              "       0, 0, 0, 1, 0, 0, 0, 0, 0, 0, 1, 0, 0, 0, 0, 0, 0, 0, 0, 1, 0, 0,\n",
              "       1, 0, 0, 1, 1, 0, 0, 1, 0, 0, 0, 1, 1, 0, 0, 0, 0, 0, 0, 0, 0, 0,\n",
              "       0, 0, 1, 1, 0, 0, 0, 0, 0, 0, 0, 1, 0, 0, 0, 1, 1, 0, 0, 0, 0, 0,\n",
              "       0, 0, 0, 1, 0, 1, 0, 0, 0, 0, 1, 0, 1, 1, 0, 0, 0, 0, 0, 0, 0, 1,\n",
              "       0, 1, 0, 0, 0, 1, 0, 0, 0, 0, 0, 0, 0, 0, 0, 0, 0, 1, 0, 0, 0, 0,\n",
              "       0, 0, 0, 0, 0, 1, 0, 0, 1, 0, 0, 0, 1, 0, 1, 1, 0, 0, 0, 0, 0, 0,\n",
              "       0, 0, 0, 0, 0, 1, 0, 0, 0, 1, 0, 0, 0, 1, 0, 0, 0, 0, 0, 0, 1, 0,\n",
              "       0, 1, 0, 0, 0, 0, 0, 0, 0, 0, 0, 0, 1, 0, 1, 0, 0, 1, 0, 0, 1, 0,\n",
              "       1, 1, 0, 1, 1, 1, 0, 1, 0, 0, 0, 0, 0, 0, 0, 0, 1, 0, 1, 0, 0, 0,\n",
              "       0, 0, 0, 0, 0, 0, 0, 0, 0, 0, 0, 1, 0, 0, 1, 0, 0, 0, 1, 0, 0, 0,\n",
              "       0, 0, 1, 0, 1, 1, 0, 0, 1, 0, 1, 0, 0, 1, 0, 0, 1, 0, 0, 1, 0, 0,\n",
              "       0, 0, 1, 0, 1, 1, 0, 0, 1, 0, 0, 0, 0, 0, 1, 1, 1, 0, 0, 0, 0, 0,\n",
              "       0, 0, 1, 0, 0, 0, 0, 0, 0, 0, 1, 0, 1, 1, 1, 0, 0, 0, 0, 0, 0, 0,\n",
              "       0, 0, 0, 0, 1, 0, 0, 0, 0, 0, 1, 0, 0, 1, 0, 1, 0, 0, 0, 0, 0, 0,\n",
              "       1, 1, 1, 0, 0, 0, 0, 0, 0, 0, 0, 0, 0, 0, 0, 0, 0, 1, 0, 0, 0, 0,\n",
              "       0, 1, 1, 1, 1, 0, 0, 0, 0, 1, 0, 0, 0, 0, 0, 0, 0, 0, 0, 0, 0, 0,\n",
              "       1, 0, 0, 0, 0, 0, 0, 0, 1, 0, 0, 1, 0, 0, 1, 0, 0, 0, 0, 1, 0, 1,\n",
              "       0, 0, 1, 0, 0, 0, 0, 1, 0, 1, 0, 0, 0, 0, 0, 0, 0, 0, 0, 0, 1, 0,\n",
              "       0, 0, 0, 0, 1, 0, 0, 0, 0, 1, 0, 0, 0, 0, 1, 0, 1, 0, 0, 0, 0, 1,\n",
              "       0, 0, 0, 0, 1, 0, 0, 0, 0, 1, 1, 1, 1, 0, 0, 1, 0, 0, 0, 0, 0, 0,\n",
              "       1, 0, 1, 0, 0, 0, 0, 0, 1, 0, 1, 0, 1, 1, 0, 1, 0, 1, 0, 0, 0, 0,\n",
              "       0, 0, 0, 0, 0, 1, 0, 0, 0, 0, 0, 0, 1, 0, 0, 1, 0, 0, 0, 1, 1, 0,\n",
              "       0, 0, 0, 0, 1, 0, 1, 0, 0, 0, 0, 0, 0, 0, 1, 1, 1, 0, 0, 0, 0, 0,\n",
              "       0, 0, 0, 0, 0, 0, 0, 0, 0, 0, 0, 0, 1, 0, 0, 0, 0, 0, 0, 0, 0, 0,\n",
              "       0, 0, 0, 0, 1, 1, 0, 0, 0, 0, 0, 0, 0, 0, 0, 0, 0, 0, 0, 0, 0, 1,\n",
              "       1, 0, 0, 0, 0, 0, 0, 0, 0, 0, 0, 0, 0, 0, 0, 0, 0, 0, 0, 0, 0, 0,\n",
              "       1, 0, 1, 0, 0, 0, 0, 0, 0, 0, 0, 0, 0, 0, 1, 0, 0, 1, 1, 0, 0, 0,\n",
              "       1, 0, 1, 0, 0, 0, 1, 0, 0, 0, 1, 0, 0, 0, 0, 1, 0, 0, 0, 0, 0, 0,\n",
              "       1, 0, 0, 0, 1, 0, 0, 0, 0, 0, 0, 0, 1, 1, 0, 0, 1, 0, 0, 0, 0, 0,\n",
              "       0, 1, 0, 0, 0, 0, 0, 1, 0, 0, 0, 0, 1, 0, 1, 0, 0, 0, 1, 0, 1, 0,\n",
              "       0, 1, 1, 0, 0, 0, 0, 0, 0, 0, 0, 0, 0, 1, 0, 1, 0, 0, 0, 0, 0, 0,\n",
              "       0, 0, 0, 1, 0, 0, 0, 0, 0, 0, 0, 1, 0, 1, 0, 0, 0, 0, 0, 0, 0, 0,\n",
              "       1, 1, 0, 1, 1, 1, 0, 0, 1, 0, 0, 1, 0, 1, 0, 0, 0, 0, 0, 0, 0, 0,\n",
              "       0, 0, 0, 0, 0, 0, 0, 0, 0, 1, 1, 0, 1, 0, 1, 1, 1, 0, 1, 0, 0, 0,\n",
              "       0, 0, 0, 1, 0, 1, 0, 0, 0, 0, 1, 0, 0, 0, 0, 0, 0, 0, 0, 1, 0, 0,\n",
              "       0, 0, 0, 0, 1, 0, 0, 1, 0, 0, 1, 0, 0, 0, 0, 0, 0, 0, 0, 1, 1, 1,\n",
              "       0, 0, 0, 0, 0, 0, 1, 0, 1, 1, 0, 0, 0, 0, 0, 0, 0, 0, 0, 0, 1, 1,\n",
              "       0, 1, 0, 0, 0, 0, 0, 1, 0, 0, 0, 1, 0, 0, 0, 0, 0, 0, 0, 0, 1, 0,\n",
              "       0, 0, 1, 1, 1, 0, 0, 1, 0, 0, 0, 0, 0, 0, 1, 1, 0, 1, 0, 0, 0, 0,\n",
              "       0, 0, 0, 0, 0, 1, 0, 0, 0, 0, 1, 0, 0, 0, 0, 0, 1, 1, 0, 0, 0, 1,\n",
              "       0, 0, 1, 0, 0, 0, 1, 0, 0, 0, 0, 0, 0, 0, 0, 0, 0, 0, 0, 0, 0, 0,\n",
              "       0, 0, 0, 1, 0, 0, 0, 0, 0, 1])"
            ]
          },
          "metadata": {},
          "execution_count": 91
        }
      ]
    },
    {
      "cell_type": "code",
      "source": [
        "def create_initially_empty_matrix(dataset):\n",
        "  return np.zeros((dataset.size, round(dataset.size / (dataset.maximum_x - dataset.minimum_x) * (dataset.maximum_y - dataset.minimum_y))))\n",
        "\n",
        "\n",
        "\n",
        "def get_matrix_to_draw(empty_matrix, dataset, predictions):\n",
        "  xpixels = dataset.size\n",
        "  ypixels = round(xpixels / (dataset.maximum_x - dataset.minimum_x) * (dataset.maximum_y - dataset.minimum_y))\n",
        "\n",
        "  input_data, Y = dataset.get_X_and_Y()\n",
        "  prediction_index = 0\n",
        "  for item in input_data: \n",
        "    x, y = item[0], item[1]\n",
        "    if predictions[prediction_index] == 1:\n",
        "       empty_matrix[x][y] = 1\n",
        "    else:\n",
        "      empty_matrix[x][y] = 0\n",
        "   \n",
        "  return empty_matrix\n",
        "\n",
        "  \n",
        "\n",
        "\n",
        "empty_matrix = create_initially_empty_matrix(dataset)\n",
        "\n",
        "matrix_for_drawing = get_matrix_to_draw(empty_matrix, dataset, predictions_as_classes)\n",
        "matrix_for_drawing\n"
      ],
      "metadata": {
        "colab": {
          "base_uri": "https://localhost:8080/",
          "height": 356
        },
        "id": "u3JFJ-UnxAJ0",
        "outputId": "33414fa5-9f01-40cc-ea44-e07831ba1b9f"
      },
      "execution_count": null,
      "outputs": [
        {
          "output_type": "error",
          "ename": "IndexError",
          "evalue": "ignored",
          "traceback": [
            "\u001b[0;31m---------------------------------------------------------------------------\u001b[0m",
            "\u001b[0;31mIndexError\u001b[0m                                Traceback (most recent call last)",
            "\u001b[0;32m<ipython-input-94-0c642192b875>\u001b[0m in \u001b[0;36m<module>\u001b[0;34m\u001b[0m\n\u001b[1;32m     24\u001b[0m \u001b[0mempty_matrix\u001b[0m \u001b[0;34m=\u001b[0m \u001b[0mcreate_initially_empty_matrix\u001b[0m\u001b[0;34m(\u001b[0m\u001b[0mdataset\u001b[0m\u001b[0;34m)\u001b[0m\u001b[0;34m\u001b[0m\u001b[0;34m\u001b[0m\u001b[0m\n\u001b[1;32m     25\u001b[0m \u001b[0;34m\u001b[0m\u001b[0m\n\u001b[0;32m---> 26\u001b[0;31m \u001b[0mmatrix_for_drawing\u001b[0m \u001b[0;34m=\u001b[0m \u001b[0mget_matrix_to_draw\u001b[0m\u001b[0;34m(\u001b[0m\u001b[0mempty_matrix\u001b[0m\u001b[0;34m,\u001b[0m \u001b[0mdataset\u001b[0m\u001b[0;34m,\u001b[0m \u001b[0mpredictions_as_classes\u001b[0m\u001b[0;34m)\u001b[0m\u001b[0;34m\u001b[0m\u001b[0;34m\u001b[0m\u001b[0m\n\u001b[0m\u001b[1;32m     27\u001b[0m \u001b[0mmatrix_for_drawing\u001b[0m\u001b[0;34m\u001b[0m\u001b[0;34m\u001b[0m\u001b[0m\n",
            "\u001b[0;32m<ipython-input-94-0c642192b875>\u001b[0m in \u001b[0;36mget_matrix_to_draw\u001b[0;34m(empty_matrix, dataset, predictions)\u001b[0m\n\u001b[1;32m     15\u001b[0m        \u001b[0mempty_matrix\u001b[0m\u001b[0;34m[\u001b[0m\u001b[0mx\u001b[0m\u001b[0;34m]\u001b[0m\u001b[0;34m[\u001b[0m\u001b[0my\u001b[0m\u001b[0;34m]\u001b[0m \u001b[0;34m=\u001b[0m \u001b[0;36m1\u001b[0m\u001b[0;34m\u001b[0m\u001b[0;34m\u001b[0m\u001b[0m\n\u001b[1;32m     16\u001b[0m     \u001b[0;32melse\u001b[0m\u001b[0;34m:\u001b[0m\u001b[0;34m\u001b[0m\u001b[0;34m\u001b[0m\u001b[0m\n\u001b[0;32m---> 17\u001b[0;31m       \u001b[0mempty_matrix\u001b[0m\u001b[0;34m[\u001b[0m\u001b[0mx\u001b[0m\u001b[0;34m]\u001b[0m\u001b[0;34m[\u001b[0m\u001b[0my\u001b[0m\u001b[0;34m]\u001b[0m \u001b[0;34m=\u001b[0m \u001b[0;36m0\u001b[0m\u001b[0;34m\u001b[0m\u001b[0;34m\u001b[0m\u001b[0m\n\u001b[0m\u001b[1;32m     18\u001b[0m \u001b[0;34m\u001b[0m\u001b[0m\n\u001b[1;32m     19\u001b[0m   \u001b[0;32mreturn\u001b[0m \u001b[0mempty_matrix\u001b[0m\u001b[0;34m\u001b[0m\u001b[0;34m\u001b[0m\u001b[0m\n",
            "\u001b[0;31mIndexError\u001b[0m: only integers, slices (`:`), ellipsis (`...`), numpy.newaxis (`None`) and integer or boolean arrays are valid indices"
          ]
        }
      ]
    }
  ]
}